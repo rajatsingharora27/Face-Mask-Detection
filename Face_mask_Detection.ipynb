{
  "nbformat": 4,
  "nbformat_minor": 0,
  "metadata": {
    "colab": {
      "name": "Face mask Detection.ipynb",
      "provenance": []
    },
    "kernelspec": {
      "name": "python3",
      "display_name": "Python 3"
    },
    "language_info": {
      "name": "python"
    },
    "accelerator": "GPU"
  },
  "cells": [
    {
      "cell_type": "code",
      "metadata": {
        "colab": {
          "base_uri": "https://localhost:8080/"
        },
        "id": "rdeAU841sDg3",
        "outputId": "b345b9a1-4650-4ca5-a2ce-33477176d8ff"
      },
      "source": [
        "# Configuration related preprocessing step before mounting the drive\n",
        "!apt-get install -y -qq software-properties-common python-software-properties module-init-tools\n",
        "!add-apt-repository -y ppa:alessandro-strada/ppa 2>&1 > /dev/null\n",
        "!apt-get update -qq 2>&1 > /dev/null\n",
        "!apt-get -y install -qq google-drive-ocamlfuse fuse\n",
        "from google.colab import auth\n",
        "auth.authenticate_user()\n",
        "from oauth2client.client import GoogleCredentials\n",
        "creds = GoogleCredentials.get_application_default()\n",
        "import getpass\n",
        "!google-drive-ocamlfuse -headless -id={creds.client_id} -secret={creds.client_secret} < /dev/null 2>&1 | grep URL\n",
        "vcode = getpass.getpass()\n",
        "!echo {vcode} | google-drive-ocamlfuse -headless -id={creds.client_id} -secret={creds.client_secret}"
      ],
      "execution_count": null,
      "outputs": [
        {
          "output_type": "stream",
          "text": [
            "E: Package 'python-software-properties' has no installation candidate\n",
            "Selecting previously unselected package google-drive-ocamlfuse.\n",
            "(Reading database ... 160815 files and directories currently installed.)\n",
            "Preparing to unpack .../google-drive-ocamlfuse_0.7.26-0ubuntu1~ubuntu18.04.1_amd64.deb ...\n",
            "Unpacking google-drive-ocamlfuse (0.7.26-0ubuntu1~ubuntu18.04.1) ...\n",
            "Setting up google-drive-ocamlfuse (0.7.26-0ubuntu1~ubuntu18.04.1) ...\n",
            "Processing triggers for man-db (2.8.3-2ubuntu0.1) ...\n",
            "Please, open the following URL in a web browser: https://accounts.google.com/o/oauth2/auth?client_id=32555940559.apps.googleusercontent.com&redirect_uri=urn%3Aietf%3Awg%3Aoauth%3A2.0%3Aoob&scope=https%3A%2F%2Fwww.googleapis.com%2Fauth%2Fdrive&response_type=code&access_type=offline&approval_prompt=force\n",
            "··········\n",
            "Please, open the following URL in a web browser: https://accounts.google.com/o/oauth2/auth?client_id=32555940559.apps.googleusercontent.com&redirect_uri=urn%3Aietf%3Awg%3Aoauth%3A2.0%3Aoob&scope=https%3A%2F%2Fwww.googleapis.com%2Fauth%2Fdrive&response_type=code&access_type=offline&approval_prompt=force\n",
            "Please enter the verification code: Access token retrieved correctly.\n"
          ],
          "name": "stdout"
        }
      ]
    },
    {
      "cell_type": "code",
      "metadata": {
        "colab": {
          "base_uri": "https://localhost:8080/"
        },
        "id": "BS74joYzyRaz",
        "outputId": "5bcc47e7-f600-4cf3-f441-27281992288f"
      },
      "source": [
        "from google.colab import drive\n",
        "drive.mount('/content/drive')"
      ],
      "execution_count": 16,
      "outputs": [
        {
          "output_type": "stream",
          "text": [
            "Drive already mounted at /content/drive; to attempt to forcibly remount, call drive.mount(\"/content/drive\", force_remount=True).\n"
          ],
          "name": "stdout"
        }
      ]
    },
    {
      "cell_type": "code",
      "metadata": {
        "id": "PO3tqJ5DzfI1"
      },
      "source": [
        "!pip install -q keras"
      ],
      "execution_count": 15,
      "outputs": []
    },
    {
      "cell_type": "code",
      "metadata": {
        "colab": {
          "base_uri": "https://localhost:8080/"
        },
        "id": "vX82U99-EwlS",
        "outputId": "242a8639-601f-4416-ee00-d8c7aacb318b"
      },
      "source": [
        "import os\n",
        "\n",
        "# Set Directory path for Dataset\n",
        "os.chdir(\"/content/drive/MyDrive/\")\n",
        "Dataset='Dataset'\n",
        "Data_Dir=os.listdir(Dataset)\n",
        "print(Data_Dir)"
      ],
      "execution_count": 18,
      "outputs": [
        {
          "output_type": "stream",
          "text": [
            "['without_mask', 'with_mask']\n"
          ],
          "name": "stdout"
        }
      ]
    },
    {
      "cell_type": "code",
      "metadata": {
        "id": "s_NoJjLkt0yn"
      },
      "source": [
        "# Import necessary libraries\n",
        "import cv2\n",
        "import numpy as np\n",
        "from tensorflow.keras.utils import to_categorical\n",
        "from sklearn.preprocessing import LabelBinarizer\n",
        "from sklearn.model_selection import train_test_split\n",
        "\n",
        "img_rows, img_cols = 112, 112\n",
        "\n",
        "images = []\n",
        "labels = []\n",
        "\n",
        "for category in Data_Dir:\n",
        "    folder_path = os.path.join('/content/drive/MyDrive/Dataset', category)\n",
        "    for img in os.listdir(folder_path):\n",
        "        img_path = os.path.join(folder_path, img)\n",
        "        img=cv2.imread(img_path)\n",
        "\n",
        "        try:\n",
        "            #Coverting the image into gray scale\n",
        "            grayscale_img=cv2.cvtColor(img,cv2.COLOR_BGR2GRAY)\n",
        "\n",
        "            #resizing the gray scaled image into size 56x56 in order to keep size of the images consistent           \n",
        "            resized_img=cv2.resize(grayscale_img,(img_rows, img_cols))\n",
        "            images.append(resized_img)\n",
        "            labels.append(category)\n",
        "        # Exception Handling in case any error occurs\n",
        "        except Exception as e:\n",
        "            print('Exception:',e)\n",
        "        \n",
        "images=np.array(images)/255.0\n",
        "images=np.reshape(images,(images.shape[0],img_rows, img_cols,1))\n",
        "\n",
        "\n",
        "# Perform one hot encoding on the labels since the label are in textual form\n",
        "lb=LabelBinarizer()\n",
        "labels=lb.fit_transform(labels)\n",
        "labels = to_categorical(labels)\n",
        "labels = np.array(labels)\n",
        "\n",
        "(train_X, test_X, train_y, test_y) = train_test_split(images, labels, test_size=0.25, \n",
        "                                                      random_state=0)"
      ],
      "execution_count": 19,
      "outputs": []
    },
    {
      "cell_type": "code",
      "metadata": {
        "colab": {
          "base_uri": "https://localhost:8080/"
        },
        "id": "VzDy4vbhvmQ9",
        "outputId": "79e5e84a-cc65-49d6-8218-bc80204ffe05"
      },
      "source": [
        "\n",
        "# Import Necessary Keras Libraries\n",
        "from keras.models import Sequential\n",
        "from keras.layers import Dense,Activation,Flatten,Dropout\n",
        "from keras.layers import Conv2D,MaxPooling2D\n",
        "\n",
        "# Define model paramters\n",
        "num_classes = 2\n",
        "batch_size = 32\n",
        "\n",
        "# Build CNN model using Sequential API\n",
        "model=Sequential()\n",
        "\n",
        "#First layer group containing Convolution, Relu and MaxPooling layers\n",
        "model.add(Conv2D(64,(3,3),input_shape=(img_rows, img_cols, 1)))\n",
        "model.add(Activation('relu'))\n",
        "model.add(MaxPooling2D(pool_size=(2,2)))\n",
        "\n",
        "#Second layer group containing Convolution, Relu and MaxPooling layers\n",
        "model.add(Conv2D(128,(3,3)))\n",
        "model.add(Activation('relu'))\n",
        "model.add(MaxPooling2D(pool_size=(2,2)))\n",
        "\n",
        "#Flatten and Dropout Layer to stack the output convolutions above as well as cater overfitting\n",
        "model.add(Flatten())\n",
        "model.add(Dropout(0.5))\n",
        "\n",
        "# Softmax Classifier\n",
        "model.add(Dense(64,activation='relu'))\n",
        "model.add(Dense(num_classes,activation='softmax'))\n",
        "\n",
        "print(model.summary())"
      ],
      "execution_count": 20,
      "outputs": [
        {
          "output_type": "stream",
          "text": [
            "Model: \"sequential_1\"\n",
            "_________________________________________________________________\n",
            "Layer (type)                 Output Shape              Param #   \n",
            "=================================================================\n",
            "conv2d_2 (Conv2D)            (None, 110, 110, 64)      640       \n",
            "_________________________________________________________________\n",
            "activation_2 (Activation)    (None, 110, 110, 64)      0         \n",
            "_________________________________________________________________\n",
            "max_pooling2d_2 (MaxPooling2 (None, 55, 55, 64)        0         \n",
            "_________________________________________________________________\n",
            "conv2d_3 (Conv2D)            (None, 53, 53, 128)       73856     \n",
            "_________________________________________________________________\n",
            "activation_3 (Activation)    (None, 53, 53, 128)       0         \n",
            "_________________________________________________________________\n",
            "max_pooling2d_3 (MaxPooling2 (None, 26, 26, 128)       0         \n",
            "_________________________________________________________________\n",
            "flatten_1 (Flatten)          (None, 86528)             0         \n",
            "_________________________________________________________________\n",
            "dropout_1 (Dropout)          (None, 86528)             0         \n",
            "_________________________________________________________________\n",
            "dense_2 (Dense)              (None, 64)                5537856   \n",
            "_________________________________________________________________\n",
            "dense_3 (Dense)              (None, 2)                 130       \n",
            "=================================================================\n",
            "Total params: 5,612,482\n",
            "Trainable params: 5,612,482\n",
            "Non-trainable params: 0\n",
            "_________________________________________________________________\n",
            "None\n"
          ],
          "name": "stdout"
        }
      ]
    },
    {
      "cell_type": "code",
      "metadata": {
        "id": "ZvQ7t3s8wPMX"
      },
      "source": [
        "\n",
        "# # Plot the model\n",
        "# from keras.utils.vis_utils import plot_model\n",
        "# plot_model(model, to_file='face_mask_detection_architecture.png')"
      ],
      "execution_count": 25,
      "outputs": []
    },
    {
      "cell_type": "code",
      "metadata": {
        "colab": {
          "base_uri": "https://localhost:8080/"
        },
        "id": "XGuqrkncwaTJ",
        "outputId": "85b490f0-bcd2-459c-c93d-5570d25b86b4"
      },
      "source": [
        "## Train the Model\n",
        "\n",
        "from keras.optimizers import Adam\n",
        "\n",
        "epochs = 50\n",
        "\n",
        "model.compile(loss = 'categorical_crossentropy',\n",
        "              optimizer = Adam(lr=0.001),\n",
        "              metrics = ['accuracy'])\n",
        "\n",
        "fitted_model = model.fit(\n",
        "    train_X,\n",
        "    train_y,\n",
        "    epochs = epochs,\n",
        "    validation_split=0.25)"
      ],
      "execution_count": 22,
      "outputs": [
        {
          "output_type": "stream",
          "text": [
            "/usr/local/lib/python3.7/dist-packages/tensorflow/python/keras/optimizer_v2/optimizer_v2.py:375: UserWarning: The `lr` argument is deprecated, use `learning_rate` instead.\n",
            "  \"The `lr` argument is deprecated, use `learning_rate` instead.\")\n"
          ],
          "name": "stderr"
        },
        {
          "output_type": "stream",
          "text": [
            "Epoch 1/50\n",
            "14/14 [==============================] - 37s 104ms/step - loss: 1.3000 - accuracy: 0.5186 - val_loss: 0.6977 - val_accuracy: 0.4694\n",
            "Epoch 2/50\n",
            "14/14 [==============================] - 0s 28ms/step - loss: 0.6715 - accuracy: 0.5396 - val_loss: 0.6388 - val_accuracy: 0.6190\n",
            "Epoch 3/50\n",
            "14/14 [==============================] - 0s 29ms/step - loss: 0.6252 - accuracy: 0.5942 - val_loss: 0.6047 - val_accuracy: 0.6667\n",
            "Epoch 4/50\n",
            "14/14 [==============================] - 0s 28ms/step - loss: 0.5430 - accuracy: 0.7515 - val_loss: 0.5278 - val_accuracy: 0.7211\n",
            "Epoch 5/50\n",
            "14/14 [==============================] - 0s 29ms/step - loss: 0.4291 - accuracy: 0.8172 - val_loss: 0.4747 - val_accuracy: 0.7619\n",
            "Epoch 6/50\n",
            "14/14 [==============================] - 0s 28ms/step - loss: 0.3622 - accuracy: 0.8379 - val_loss: 0.4407 - val_accuracy: 0.7619\n",
            "Epoch 7/50\n",
            "14/14 [==============================] - 0s 28ms/step - loss: 0.3117 - accuracy: 0.8612 - val_loss: 0.3789 - val_accuracy: 0.8299\n",
            "Epoch 8/50\n",
            "14/14 [==============================] - 0s 28ms/step - loss: 0.2595 - accuracy: 0.8920 - val_loss: 0.4172 - val_accuracy: 0.8231\n",
            "Epoch 9/50\n",
            "14/14 [==============================] - 0s 29ms/step - loss: 0.2187 - accuracy: 0.9071 - val_loss: 0.3012 - val_accuracy: 0.8639\n",
            "Epoch 10/50\n",
            "14/14 [==============================] - 0s 28ms/step - loss: 0.1353 - accuracy: 0.9427 - val_loss: 0.3035 - val_accuracy: 0.8639\n",
            "Epoch 11/50\n",
            "14/14 [==============================] - 0s 29ms/step - loss: 0.0864 - accuracy: 0.9729 - val_loss: 0.2739 - val_accuracy: 0.8639\n",
            "Epoch 12/50\n",
            "14/14 [==============================] - 0s 28ms/step - loss: 0.0860 - accuracy: 0.9768 - val_loss: 0.2922 - val_accuracy: 0.8571\n",
            "Epoch 13/50\n",
            "14/14 [==============================] - 0s 29ms/step - loss: 0.0726 - accuracy: 0.9893 - val_loss: 0.3280 - val_accuracy: 0.8503\n",
            "Epoch 14/50\n",
            "14/14 [==============================] - 0s 28ms/step - loss: 0.0770 - accuracy: 0.9730 - val_loss: 0.3346 - val_accuracy: 0.8503\n",
            "Epoch 15/50\n",
            "14/14 [==============================] - 0s 29ms/step - loss: 0.0530 - accuracy: 0.9800 - val_loss: 0.3687 - val_accuracy: 0.8639\n",
            "Epoch 16/50\n",
            "14/14 [==============================] - 0s 28ms/step - loss: 0.0711 - accuracy: 0.9639 - val_loss: 0.3076 - val_accuracy: 0.8571\n",
            "Epoch 17/50\n",
            "14/14 [==============================] - 0s 29ms/step - loss: 0.0445 - accuracy: 0.9843 - val_loss: 0.3509 - val_accuracy: 0.8639\n",
            "Epoch 18/50\n",
            "14/14 [==============================] - 0s 28ms/step - loss: 0.0420 - accuracy: 0.9912 - val_loss: 0.3459 - val_accuracy: 0.8707\n",
            "Epoch 19/50\n",
            "14/14 [==============================] - 0s 28ms/step - loss: 0.0213 - accuracy: 0.9960 - val_loss: 0.3098 - val_accuracy: 0.8707\n",
            "Epoch 20/50\n",
            "14/14 [==============================] - 0s 29ms/step - loss: 0.0296 - accuracy: 0.9937 - val_loss: 0.5082 - val_accuracy: 0.8639\n",
            "Epoch 21/50\n",
            "14/14 [==============================] - 0s 28ms/step - loss: 0.0470 - accuracy: 0.9779 - val_loss: 0.3257 - val_accuracy: 0.8707\n",
            "Epoch 22/50\n",
            "14/14 [==============================] - 0s 28ms/step - loss: 0.0255 - accuracy: 0.9926 - val_loss: 0.3696 - val_accuracy: 0.8776\n",
            "Epoch 23/50\n",
            "14/14 [==============================] - 0s 28ms/step - loss: 0.0299 - accuracy: 0.9931 - val_loss: 0.3493 - val_accuracy: 0.8844\n",
            "Epoch 24/50\n",
            "14/14 [==============================] - 0s 28ms/step - loss: 0.0252 - accuracy: 0.9852 - val_loss: 0.3321 - val_accuracy: 0.8844\n",
            "Epoch 25/50\n",
            "14/14 [==============================] - 0s 29ms/step - loss: 0.0155 - accuracy: 0.9959 - val_loss: 0.3983 - val_accuracy: 0.8503\n",
            "Epoch 26/50\n",
            "14/14 [==============================] - 0s 28ms/step - loss: 0.0240 - accuracy: 0.9938 - val_loss: 0.3508 - val_accuracy: 0.8912\n",
            "Epoch 27/50\n",
            "14/14 [==============================] - 0s 28ms/step - loss: 0.0292 - accuracy: 0.9836 - val_loss: 0.3010 - val_accuracy: 0.8776\n",
            "Epoch 28/50\n",
            "14/14 [==============================] - 0s 28ms/step - loss: 0.0215 - accuracy: 0.9934 - val_loss: 0.3203 - val_accuracy: 0.8844\n",
            "Epoch 29/50\n",
            "14/14 [==============================] - 0s 28ms/step - loss: 0.0108 - accuracy: 0.9959 - val_loss: 0.4451 - val_accuracy: 0.8435\n",
            "Epoch 30/50\n",
            "14/14 [==============================] - 0s 28ms/step - loss: 0.0196 - accuracy: 0.9979 - val_loss: 0.4767 - val_accuracy: 0.8367\n",
            "Epoch 31/50\n",
            "14/14 [==============================] - 0s 28ms/step - loss: 0.0169 - accuracy: 0.9909 - val_loss: 0.3677 - val_accuracy: 0.8776\n",
            "Epoch 32/50\n",
            "14/14 [==============================] - 0s 28ms/step - loss: 0.0049 - accuracy: 0.9987 - val_loss: 0.3992 - val_accuracy: 0.8776\n",
            "Epoch 33/50\n",
            "14/14 [==============================] - 0s 28ms/step - loss: 0.0050 - accuracy: 0.9969 - val_loss: 0.4565 - val_accuracy: 0.8707\n",
            "Epoch 34/50\n",
            "14/14 [==============================] - 0s 28ms/step - loss: 0.0053 - accuracy: 0.9982 - val_loss: 0.4468 - val_accuracy: 0.8776\n",
            "Epoch 35/50\n",
            "14/14 [==============================] - 0s 28ms/step - loss: 0.0098 - accuracy: 0.9931 - val_loss: 0.4197 - val_accuracy: 0.8707\n",
            "Epoch 36/50\n",
            "14/14 [==============================] - 0s 28ms/step - loss: 0.0100 - accuracy: 0.9931 - val_loss: 0.3215 - val_accuracy: 0.8980\n",
            "Epoch 37/50\n",
            "14/14 [==============================] - 0s 28ms/step - loss: 0.0139 - accuracy: 0.9952 - val_loss: 1.0129 - val_accuracy: 0.7823\n",
            "Epoch 38/50\n",
            "14/14 [==============================] - 0s 29ms/step - loss: 0.1681 - accuracy: 0.9292 - val_loss: 0.5821 - val_accuracy: 0.8027\n",
            "Epoch 39/50\n",
            "14/14 [==============================] - 0s 28ms/step - loss: 0.0753 - accuracy: 0.9719 - val_loss: 0.4275 - val_accuracy: 0.8571\n",
            "Epoch 40/50\n",
            "14/14 [==============================] - 0s 28ms/step - loss: 0.0602 - accuracy: 0.9791 - val_loss: 0.4393 - val_accuracy: 0.8571\n",
            "Epoch 41/50\n",
            "14/14 [==============================] - 0s 28ms/step - loss: 0.0184 - accuracy: 0.9974 - val_loss: 0.4241 - val_accuracy: 0.8912\n",
            "Epoch 42/50\n",
            "14/14 [==============================] - 0s 28ms/step - loss: 0.0078 - accuracy: 0.9985 - val_loss: 0.4606 - val_accuracy: 0.8776\n",
            "Epoch 43/50\n",
            "14/14 [==============================] - 0s 28ms/step - loss: 0.0048 - accuracy: 1.0000 - val_loss: 0.4706 - val_accuracy: 0.8844\n",
            "Epoch 44/50\n",
            "14/14 [==============================] - 0s 28ms/step - loss: 0.0063 - accuracy: 1.0000 - val_loss: 0.4705 - val_accuracy: 0.8844\n",
            "Epoch 45/50\n",
            "14/14 [==============================] - 0s 29ms/step - loss: 0.0115 - accuracy: 0.9930 - val_loss: 0.4711 - val_accuracy: 0.8844\n",
            "Epoch 46/50\n",
            "14/14 [==============================] - 0s 28ms/step - loss: 0.0067 - accuracy: 0.9985 - val_loss: 0.4089 - val_accuracy: 0.8912\n",
            "Epoch 47/50\n",
            "14/14 [==============================] - 0s 28ms/step - loss: 0.0087 - accuracy: 0.9972 - val_loss: 0.3793 - val_accuracy: 0.8912\n",
            "Epoch 48/50\n",
            "14/14 [==============================] - 0s 28ms/step - loss: 0.0032 - accuracy: 0.9997 - val_loss: 0.4198 - val_accuracy: 0.8912\n",
            "Epoch 49/50\n",
            "14/14 [==============================] - 0s 28ms/step - loss: 0.0071 - accuracy: 0.9978 - val_loss: 0.4371 - val_accuracy: 0.8912\n",
            "Epoch 50/50\n",
            "14/14 [==============================] - 0s 28ms/step - loss: 0.0023 - accuracy: 1.0000 - val_loss: 0.4612 - val_accuracy: 0.8980\n"
          ],
          "name": "stdout"
        }
      ]
    },
    {
      "cell_type": "markdown",
      "metadata": {
        "id": "EFDpLZsUBcfy"
      },
      "source": [
        ""
      ]
    },
    {
      "cell_type": "code",
      "metadata": {
        "colab": {
          "base_uri": "https://localhost:8080/",
          "height": 541
        },
        "id": "EugGT_B_wgQR",
        "outputId": "e01103fa-ddc0-4676-9769-00a6d0c55781"
      },
      "source": [
        "from matplotlib import pyplot as plt\n",
        "# Plot Training and Validation Loss\n",
        "plt.plot(fitted_model.history['loss'],'r',label='training loss')\n",
        "plt.plot(fitted_model.history['val_loss'],label='validation loss')\n",
        "plt.xlabel('Number of Epochs')\n",
        "plt.ylabel('Loss Value')\n",
        "plt.legend()\n",
        "plt.show()\n",
        "\n",
        "# Plot Training and Validation Accuracy\n",
        "plt.plot(fitted_model.history['accuracy'],'r',label='training accuracy')\n",
        "plt.plot(fitted_model.history['val_accuracy'],label='validation accuracy')\n",
        "plt.xlabel('Number of Epochs')\n",
        "plt.ylabel('Accuracy Value')\n",
        "plt.legend()\n",
        "plt.show()"
      ],
      "execution_count": 23,
      "outputs": [
        {
          "output_type": "display_data",
          "data": {
            "image/png": "[encoded data removed]",
            "text/plain": [
              "<Figure size 432x288 with 1 Axes>"
            ]
          },
          "metadata": {
            "tags": [],
            "needs_background": "light"
          }
        },
        {
          "output_type": "display_data",
          "data": {
            "image/png": "[encoded data removed]",
            "text/plain": [
              "<Figure size 432x288 with 1 Axes>"
            ]
          },
          "metadata": {
            "tags": [],
            "needs_background": "light"
          }
        }
      ]
    },
    {
      "cell_type": "code",
      "metadata": {
        "id": "5deozI8j0ukK"
      },
      "source": [
        "# Save or Serialize the model with the name face_mask_detection_alert_system\n",
        "model.save('face_mask_detection_alert_system.h5')"
      ],
      "execution_count": 24,
      "outputs": []
    },
    {
      "cell_type": "code",
      "metadata": {
        "id": "RdPG9PFC0x2A"
      },
      "source": [
        ""
      ],
      "execution_count": null,
      "outputs": []
    }
  ]
}